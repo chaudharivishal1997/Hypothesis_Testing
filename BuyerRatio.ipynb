{
 "cells": [
  {
   "cell_type": "code",
   "execution_count": 1,
   "id": "b83c4cfe",
   "metadata": {},
   "outputs": [],
   "source": [
    "#Importing required libraries\n",
    "import pandas as pd \n",
    "import numpy as np\n",
    "import scipy\n",
    "from scipy import stats "
   ]
  },
  {
   "cell_type": "code",
   "execution_count": 2,
   "id": "bbb83a92",
   "metadata": {
    "scrolled": true
   },
   "outputs": [
    {
     "data": {
      "text/html": [
       "<div>\n",
       "<style scoped>\n",
       "    .dataframe tbody tr th:only-of-type {\n",
       "        vertical-align: middle;\n",
       "    }\n",
       "\n",
       "    .dataframe tbody tr th {\n",
       "        vertical-align: top;\n",
       "    }\n",
       "\n",
       "    .dataframe thead th {\n",
       "        text-align: right;\n",
       "    }\n",
       "</style>\n",
       "<table border=\"1\" class=\"dataframe\">\n",
       "  <thead>\n",
       "    <tr style=\"text-align: right;\">\n",
       "      <th></th>\n",
       "      <th>Observed Values</th>\n",
       "      <th>East</th>\n",
       "      <th>West</th>\n",
       "      <th>North</th>\n",
       "      <th>South</th>\n",
       "    </tr>\n",
       "  </thead>\n",
       "  <tbody>\n",
       "    <tr>\n",
       "      <th>0</th>\n",
       "      <td>Males</td>\n",
       "      <td>50</td>\n",
       "      <td>142</td>\n",
       "      <td>131</td>\n",
       "      <td>70</td>\n",
       "    </tr>\n",
       "    <tr>\n",
       "      <th>1</th>\n",
       "      <td>Females</td>\n",
       "      <td>435</td>\n",
       "      <td>1523</td>\n",
       "      <td>1356</td>\n",
       "      <td>750</td>\n",
       "    </tr>\n",
       "  </tbody>\n",
       "</table>\n",
       "</div>"
      ],
      "text/plain": [
       "  Observed Values  East  West  North  South\n",
       "0           Males    50   142    131     70\n",
       "1         Females   435  1523   1356    750"
      ]
     },
     "execution_count": 2,
     "metadata": {},
     "output_type": "execute_result"
    }
   ],
   "source": [
    "#Importing the dataset as 'data'\n",
    "data=pd.read_csv('C:\\Vishal\\ExcelR\\Data Science\\Assignments\\BuyerRatio.csv')\n",
    "data.head()"
   ]
  },
  {
   "cell_type": "code",
   "execution_count": 3,
   "id": "ab21c003",
   "metadata": {},
   "outputs": [],
   "source": [
    "#Defining Null & Alternate hupothesis \n",
    "#Null Hypothesis = Male-female buyer ratios are equal across all regions\n",
    "#Alternate Hypothesis = Male-female buyer ratios are not equal across all regions"
   ]
  },
  {
   "cell_type": "code",
   "execution_count": 6,
   "id": "2d0eb9e8",
   "metadata": {},
   "outputs": [
    {
     "data": {
      "text/plain": [
       "[[50, 142, 131, 70], [435, 1523, 1356, 750]]"
      ]
     },
     "execution_count": 6,
     "metadata": {},
     "output_type": "execute_result"
    }
   ],
   "source": [
    "Males=[50,142,131,70];\n",
    "Females=[435,1523,1356,750]\n",
    "Sales=[Males,Females]\n",
    "Sales"
   ]
  },
  {
   "cell_type": "code",
   "execution_count": 8,
   "id": "c8b6daa7",
   "metadata": {},
   "outputs": [
    {
     "name": "stdout",
     "output_type": "stream",
     "text": [
      "Probability Value =  0.6603094907091882\n"
     ]
    }
   ],
   "source": [
    "#Performing Chi-Squared Contigency Test\n",
    "Chi_2,p,dof,expected=stats.chi2_contingency(Sales)\n",
    "print('Probability Value = ',p)"
   ]
  },
  {
   "cell_type": "code",
   "execution_count": 9,
   "id": "466f8650",
   "metadata": {},
   "outputs": [
    {
     "name": "stdout",
     "output_type": "stream",
     "text": [
      "We will accept Null Hypothesis\n"
     ]
    }
   ],
   "source": [
    "#Comparing Probability Value with α = 0.05 (at 5% significance level)\n",
    "if p > 0.05:\n",
    "    print('We will accept Null Hypothesis')\n",
    "else:\n",
    "    print('We will reject Null Hypothesis and accept Alternate Hypothesis')"
   ]
  },
  {
   "cell_type": "code",
   "execution_count": null,
   "id": "9babb81b",
   "metadata": {},
   "outputs": [],
   "source": []
  }
 ],
 "metadata": {
  "kernelspec": {
   "display_name": "Python 3",
   "language": "python",
   "name": "python3"
  },
  "language_info": {
   "codemirror_mode": {
    "name": "ipython",
    "version": 3
   },
   "file_extension": ".py",
   "mimetype": "text/x-python",
   "name": "python",
   "nbconvert_exporter": "python",
   "pygments_lexer": "ipython3",
   "version": "3.8.8"
  }
 },
 "nbformat": 4,
 "nbformat_minor": 5
}
