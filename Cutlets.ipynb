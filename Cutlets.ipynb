{
 "cells": [
  {
   "cell_type": "code",
   "execution_count": 1,
   "id": "647f3f47",
   "metadata": {},
   "outputs": [],
   "source": [
    "#Importing required libraries\n",
    "import pandas as pd \n",
    "import numpy as np\n",
    "import scipy\n",
    "from scipy import stats "
   ]
  },
  {
   "cell_type": "code",
   "execution_count": 2,
   "id": "58111677",
   "metadata": {},
   "outputs": [
    {
     "data": {
      "text/html": [
       "<div>\n",
       "<style scoped>\n",
       "    .dataframe tbody tr th:only-of-type {\n",
       "        vertical-align: middle;\n",
       "    }\n",
       "\n",
       "    .dataframe tbody tr th {\n",
       "        vertical-align: top;\n",
       "    }\n",
       "\n",
       "    .dataframe thead th {\n",
       "        text-align: right;\n",
       "    }\n",
       "</style>\n",
       "<table border=\"1\" class=\"dataframe\">\n",
       "  <thead>\n",
       "    <tr style=\"text-align: right;\">\n",
       "      <th></th>\n",
       "      <th>Unit A</th>\n",
       "      <th>Unit B</th>\n",
       "    </tr>\n",
       "  </thead>\n",
       "  <tbody>\n",
       "    <tr>\n",
       "      <th>0</th>\n",
       "      <td>6.8090</td>\n",
       "      <td>6.7703</td>\n",
       "    </tr>\n",
       "    <tr>\n",
       "      <th>1</th>\n",
       "      <td>6.4376</td>\n",
       "      <td>7.5093</td>\n",
       "    </tr>\n",
       "    <tr>\n",
       "      <th>2</th>\n",
       "      <td>6.9157</td>\n",
       "      <td>6.7300</td>\n",
       "    </tr>\n",
       "    <tr>\n",
       "      <th>3</th>\n",
       "      <td>7.3012</td>\n",
       "      <td>6.7878</td>\n",
       "    </tr>\n",
       "    <tr>\n",
       "      <th>4</th>\n",
       "      <td>7.4488</td>\n",
       "      <td>7.1522</td>\n",
       "    </tr>\n",
       "  </tbody>\n",
       "</table>\n",
       "</div>"
      ],
      "text/plain": [
       "   Unit A  Unit B\n",
       "0  6.8090  6.7703\n",
       "1  6.4376  7.5093\n",
       "2  6.9157  6.7300\n",
       "3  7.3012  6.7878\n",
       "4  7.4488  7.1522"
      ]
     },
     "execution_count": 2,
     "metadata": {},
     "output_type": "execute_result"
    }
   ],
   "source": [
    "#Importing the dataset as 'data'\n",
    "data=pd.read_csv('C:\\Vishal\\ExcelR\\Data Science\\Assignments\\Cutlets.csv')\n",
    "data.head()"
   ]
  },
  {
   "cell_type": "code",
   "execution_count": 3,
   "id": "72c21013",
   "metadata": {},
   "outputs": [],
   "source": [
    "#Defining Null & Alternate hupothesis \n",
    "#Null Hypothesis = Mean dia. (Unit A) = Mean dia. (Unit B)\n",
    "#Alternate Hypothesis = Mean dia. (Unit A) != Mean dia. (Unit B)"
   ]
  },
  {
   "cell_type": "code",
   "execution_count": 4,
   "id": "8d03dbb7",
   "metadata": {},
   "outputs": [],
   "source": [
    "UnitA=pd.Series(data.iloc[:,0])\n",
    "UnitB=pd.Series(data.iloc[:,1])"
   ]
  },
  {
   "cell_type": "code",
   "execution_count": 5,
   "id": "06e02e46",
   "metadata": {},
   "outputs": [
    {
     "name": "stdout",
     "output_type": "stream",
     "text": [
      "Probability Value =  0.4722394724599501\n"
     ]
    }
   ],
   "source": [
    "#Performing 2 sample - 2 tail t-test\n",
    "pvalue =stats.ttest_ind(UnitA,UnitB)\n",
    "Probability Value = pvalue\n",
    "print('Probability Value = ',pvalue[1])"
   ]
  },
  {
   "cell_type": "code",
   "execution_count": 10,
   "id": "43cbe563",
   "metadata": {},
   "outputs": [],
   "source": [
    "#Comparing Probability Value with α = 0.05 (at 5% significance level)\n",
    "#pvalue > 0.05\n",
    "#We will accept Null Hypothesis i.e. no difference in diameters of Cutletsof unit A & B')"
   ]
  },
  {
   "cell_type": "code",
   "execution_count": null,
   "id": "c6c3348c",
   "metadata": {},
   "outputs": [],
   "source": []
  }
 ],
 "metadata": {
  "kernelspec": {
   "display_name": "Python 3",
   "language": "python",
   "name": "python3"
  },
  "language_info": {
   "codemirror_mode": {
    "name": "ipython",
    "version": 3
   },
   "file_extension": ".py",
   "mimetype": "text/x-python",
   "name": "python",
   "nbconvert_exporter": "python",
   "pygments_lexer": "ipython3",
   "version": "3.8.8"
  }
 },
 "nbformat": 4,
 "nbformat_minor": 5
}
